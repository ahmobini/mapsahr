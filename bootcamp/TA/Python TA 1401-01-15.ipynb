{
 "cells": [
  {
   "cell_type": "code",
   "execution_count": 37,
   "id": "852fb283-a607-4c3a-8556-f8e93ebeb6f2",
   "metadata": {},
   "outputs": [],
   "source": [
    "class NotPossible(Exception):\n",
    "    pass"
   ]
  },
  {
   "cell_type": "code",
   "execution_count": 116,
   "id": "b875ac56-16af-4f7f-b5e1-b0357b7a4f33",
   "metadata": {},
   "outputs": [],
   "source": [
    "class Zone:\n",
    "    def __init__(self, a, b):\n",
    "        if a > b:\n",
    "            raise NotPossible  # assert a < b\n",
    "        self.a = a\n",
    "        self.b = b\n",
    "        \n",
    "    def __repr__(self):\n",
    "        return f'({self.a}, {self.b})repr'\n",
    "    \n",
    "    def __str__(self):\n",
    "        return f'({self.a}, {self.b})str'\n",
    "    \n",
    "    # def __and__(self, other):\n",
    "    #     if self.a < other.a < self.b or self.a < other.b < self.b:\n",
    "    #         a = max(self.a , other.a)\n",
    "    #         b = min(self.b, other.b)\n",
    "    #         return Zone(a, b)\n",
    "    #     else:\n",
    "    #         return\n",
    "        \n",
    "    def __and__(self, other):\n",
    "        if self.a < other.a < self.b:\n",
    "            a = other.a\n",
    "            b = min(self.b, other.b)  # self.b if self.b < other.b else other.b\n",
    "        elif self.a < other.b < self.b:\n",
    "            a = max(self.a, other.a)\n",
    "            b = other.b\n",
    "        else:\n",
    "            return None\n",
    "        return Zone(a, b)\n",
    "\n",
    "        \n",
    "    # def __add__(self, other): # self + other\n",
    "    #     if self.b < other.a or other.b < self.a:\n",
    "    #         return \n",
    "    #     else:\n",
    "    #         a = min(self.a , other.a)\n",
    "    #         b = max(self.b, other.b)\n",
    "    #         return Zone(a, b)\n",
    "\n",
    "    def __add__(self, other): # self + other\n",
    "        if self & other: \n",
    "            a = min(self.a , other.a)\n",
    "            b = max(self.b, other.b)\n",
    "            return Zone(a, b)\n",
    "        else:\n",
    "            return\n",
    "        \n"
   ]
  },
  {
   "cell_type": "code",
   "execution_count": 117,
   "id": "fb8e7d91-eb3a-44e6-88e4-302e536e8895",
   "metadata": {},
   "outputs": [],
   "source": [
    "a = Zone(1,3)\n",
    "b = Zone(1, 3)\n",
    "c = Zone(2, 3)\n",
    "d = Zone(2, 6)\n",
    "f = Zone(7, 15)"
   ]
  },
  {
   "cell_type": "code",
   "execution_count": 101,
   "id": "d7978f4b-40d4-4fb1-a1ca-23564535ffdd",
   "metadata": {},
   "outputs": [],
   "source": [
    "in_num = [10,1]"
   ]
  },
  {
   "cell_type": "code",
   "execution_count": 102,
   "id": "9c4fdca2-f61e-4556-9a57-5451282ff836",
   "metadata": {},
   "outputs": [],
   "source": [
    "try:\n",
    "    dd = Zone(*in_num)\n",
    "except NotPossible:\n",
    "    dd = Zone(*reversed(in_num))"
   ]
  },
  {
   "cell_type": "code",
   "execution_count": 103,
   "id": "d8351065-3002-4d55-9699-23c08570fdd2",
   "metadata": {},
   "outputs": [
    {
     "data": {
      "text/plain": [
       "(1, 10)repr"
      ]
     },
     "execution_count": 103,
     "metadata": {},
     "output_type": "execute_result"
    }
   ],
   "source": [
    "dd"
   ]
  },
  {
   "cell_type": "code",
   "execution_count": 93,
   "id": "40f3dbbc-b692-41c5-a537-a8e4fc4dc08c",
   "metadata": {},
   "outputs": [
    {
     "name": "stdout",
     "output_type": "stream",
     "text": [
      "(1, 10)str\n"
     ]
    }
   ],
   "source": [
    "print(dd)"
   ]
  },
  {
   "cell_type": "code",
   "execution_count": 94,
   "id": "384b958d-f344-4740-b17d-b70174faa4e6",
   "metadata": {},
   "outputs": [
    {
     "ename": "TypeError",
     "evalue": "'>' not supported between instances of 'str' and 'int'",
     "output_type": "error",
     "traceback": [
      "\u001b[1;31m---------------------------------------------------------------------------\u001b[0m",
      "\u001b[1;31mTypeError\u001b[0m                                 Traceback (most recent call last)",
      "\u001b[1;32mC:\\Users\\AMIREL~1\\AppData\\Local\\Temp/ipykernel_14644/3022378240.py\u001b[0m in \u001b[0;36m<module>\u001b[1;34m\u001b[0m\n\u001b[1;32m----> 1\u001b[1;33m \u001b[0me\u001b[0m \u001b[1;33m=\u001b[0m \u001b[0mZone\u001b[0m\u001b[1;33m(\u001b[0m\u001b[1;34m'e'\u001b[0m\u001b[1;33m,\u001b[0m \u001b[1;36m3\u001b[0m\u001b[1;33m)\u001b[0m\u001b[1;33m\u001b[0m\u001b[1;33m\u001b[0m\u001b[0m\n\u001b[0m",
      "\u001b[1;32mC:\\Users\\AMIREL~1\\AppData\\Local\\Temp/ipykernel_14644/1810787245.py\u001b[0m in \u001b[0;36m__init__\u001b[1;34m(self, a, b)\u001b[0m\n\u001b[0;32m      1\u001b[0m \u001b[1;32mclass\u001b[0m \u001b[0mZone\u001b[0m\u001b[1;33m:\u001b[0m\u001b[1;33m\u001b[0m\u001b[1;33m\u001b[0m\u001b[0m\n\u001b[0;32m      2\u001b[0m     \u001b[1;32mdef\u001b[0m \u001b[0m__init__\u001b[0m\u001b[1;33m(\u001b[0m\u001b[0mself\u001b[0m\u001b[1;33m,\u001b[0m \u001b[0ma\u001b[0m\u001b[1;33m,\u001b[0m \u001b[0mb\u001b[0m\u001b[1;33m)\u001b[0m\u001b[1;33m:\u001b[0m\u001b[1;33m\u001b[0m\u001b[1;33m\u001b[0m\u001b[0m\n\u001b[1;32m----> 3\u001b[1;33m         \u001b[1;32mif\u001b[0m \u001b[0ma\u001b[0m \u001b[1;33m>\u001b[0m \u001b[0mb\u001b[0m\u001b[1;33m:\u001b[0m\u001b[1;33m\u001b[0m\u001b[1;33m\u001b[0m\u001b[0m\n\u001b[0m\u001b[0;32m      4\u001b[0m             \u001b[1;32mraise\u001b[0m \u001b[0mNotPossible\u001b[0m  \u001b[1;31m# assert a < b\u001b[0m\u001b[1;33m\u001b[0m\u001b[1;33m\u001b[0m\u001b[0m\n\u001b[0;32m      5\u001b[0m         \u001b[0mself\u001b[0m\u001b[1;33m.\u001b[0m\u001b[0ma\u001b[0m \u001b[1;33m=\u001b[0m \u001b[0ma\u001b[0m\u001b[1;33m\u001b[0m\u001b[1;33m\u001b[0m\u001b[0m\n",
      "\u001b[1;31mTypeError\u001b[0m: '>' not supported between instances of 'str' and 'int'"
     ]
    }
   ],
   "source": [
    "e = Zone('e', 3)"
   ]
  },
  {
   "cell_type": "code",
   "execution_count": 118,
   "id": "cbc73750-35e1-4daa-9ae6-e4a98639241e",
   "metadata": {},
   "outputs": [
    {
     "data": {
      "text/plain": [
       "(1, 6)repr"
      ]
     },
     "execution_count": 118,
     "metadata": {},
     "output_type": "execute_result"
    }
   ],
   "source": [
    "b + d  # = (1,6)"
   ]
  },
  {
   "cell_type": "code",
   "execution_count": 119,
   "id": "15c48c11-33cc-4fd5-a216-54d84ced1f4e",
   "metadata": {},
   "outputs": [
    {
     "name": "stdout",
     "output_type": "stream",
     "text": [
      "None\n"
     ]
    }
   ],
   "source": [
    "print(d + f)  # None"
   ]
  },
  {
   "cell_type": "code",
   "execution_count": 105,
   "id": "b9d8a869-aeb3-40de-a866-643501ed9f37",
   "metadata": {},
   "outputs": [],
   "source": [
    "f + d"
   ]
  },
  {
   "cell_type": "code",
   "execution_count": 111,
   "id": "ea515892-0aef-49ac-81a3-c253cb5f3b11",
   "metadata": {},
   "outputs": [
    {
     "data": {
      "text/plain": [
       "((2, 3)repr, (2, 3)repr)"
      ]
     },
     "execution_count": 111,
     "metadata": {},
     "output_type": "execute_result"
    }
   ],
   "source": [
    "a & c, a & d"
   ]
  },
  {
   "cell_type": "code",
   "execution_count": 9,
   "id": "31748812-7945-46d9-9c23-6568fe42760d",
   "metadata": {},
   "outputs": [],
   "source": [
    "a = 3\n",
    "b = 5"
   ]
  },
  {
   "cell_type": "code",
   "execution_count": 113,
   "id": "b694cea7-5c54-481c-ba57-362d48209232",
   "metadata": {},
   "outputs": [
    {
     "data": {
      "text/plain": [
       "(1, 3)repr"
      ]
     },
     "execution_count": 113,
     "metadata": {},
     "output_type": "execute_result"
    }
   ],
   "source": [
    "a + b"
   ]
  },
  {
   "cell_type": "code",
   "execution_count": 13,
   "id": "d2f6a079-fb2f-4d1f-8a32-053e84231689",
   "metadata": {},
   "outputs": [],
   "source": [
    "a = {1,2}\n",
    "b = set([3,2])"
   ]
  },
  {
   "cell_type": "code",
   "execution_count": 14,
   "id": "262a6f33-1a5e-4c05-9f60-99573704863e",
   "metadata": {},
   "outputs": [
    {
     "data": {
      "text/plain": [
       "{2}"
      ]
     },
     "execution_count": 14,
     "metadata": {},
     "output_type": "execute_result"
    }
   ],
   "source": [
    "a & b"
   ]
  },
  {
   "cell_type": "markdown",
   "id": "a6559e51-ab50-4010-9124-f8a7329d01c7",
   "metadata": {},
   "source": [
    "z1 -> (a,b)\n",
    "z2 -> (c,d)\n",
    "z1 & z2 -> a<c<b or a<d<b"
   ]
  },
  {
   "cell_type": "code",
   "execution_count": 120,
   "id": "84c34108-ad9d-4586-8298-0fd595660bb7",
   "metadata": {},
   "outputs": [],
   "source": [
    "class tst:\n",
    "    pass"
   ]
  },
  {
   "cell_type": "code",
   "execution_count": 121,
   "id": "bbe8770a-d976-49ef-a1c3-a58a365e6263",
   "metadata": {},
   "outputs": [],
   "source": [
    "aa = tst()"
   ]
  },
  {
   "cell_type": "code",
   "execution_count": 122,
   "id": "8e195c94-1e2e-424c-b7da-ca2e169e2b4b",
   "metadata": {},
   "outputs": [
    {
     "data": {
      "text/plain": [
       "<__main__.tst at 0xe219cf1070>"
      ]
     },
     "execution_count": 122,
     "metadata": {},
     "output_type": "execute_result"
    }
   ],
   "source": [
    "aa"
   ]
  },
  {
   "cell_type": "code",
   "execution_count": 123,
   "id": "b6a45ae8-8057-4a11-baf6-cc1b0900b686",
   "metadata": {},
   "outputs": [
    {
     "data": {
      "text/plain": [
       "True"
      ]
     },
     "execution_count": 123,
     "metadata": {},
     "output_type": "execute_result"
    }
   ],
   "source": [
    "bool(aa)"
   ]
  },
  {
   "cell_type": "code",
   "execution_count": null,
   "id": "cda19498-11a2-4258-a023-c923f396ea22",
   "metadata": {},
   "outputs": [],
   "source": []
  }
 ],
 "metadata": {
  "kernelspec": {
   "display_name": "Python 3 (ipykernel)",
   "language": "python",
   "name": "python3"
  },
  "language_info": {
   "codemirror_mode": {
    "name": "ipython",
    "version": 3
   },
   "file_extension": ".py",
   "mimetype": "text/x-python",
   "name": "python",
   "nbconvert_exporter": "python",
   "pygments_lexer": "ipython3",
   "version": "3.9.6"
  }
 },
 "nbformat": 4,
 "nbformat_minor": 5
}
