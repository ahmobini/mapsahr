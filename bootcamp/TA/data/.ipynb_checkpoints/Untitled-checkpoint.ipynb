{
 "cells": [
  {
   "cell_type": "code",
   "execution_count": 88,
   "id": "84d2910d-e18f-4c77-9ff6-c4ed9c85a890",
   "metadata": {},
   "outputs": [],
   "source": [
    "import numpy as np\n",
    "import pandas as pd\n",
    "import matplotlib.pyplot as plt\n",
    "import seaborn as sns\n",
    "import csv"
   ]
  },
  {
   "cell_type": "code",
   "execution_count": 76,
   "id": "3b994163-df95-4b2f-bf48-2c918ff99a15",
   "metadata": {},
   "outputs": [
    {
     "name": "stdout",
     "output_type": "stream",
     "text": [
      "\u001b[33mWARNING: Retrying (Retry(total=4, connect=None, read=None, redirect=None, status=None)) after connection broken by 'NewConnectionError('<pip._vendor.urllib3.connection.HTTPSConnection object at 0x7fbfa67652b0>: Failed to establish a new connection: [Errno -3] Temporary failure in name resolution')': /simple/scikit-learn/\u001b[0m\u001b[33m\n",
      "\u001b[0m\u001b[33mWARNING: Retrying (Retry(total=3, connect=None, read=None, redirect=None, status=None)) after connection broken by 'NewConnectionError('<pip._vendor.urllib3.connection.HTTPSConnection object at 0x7fbfa67655b0>: Failed to establish a new connection: [Errno -3] Temporary failure in name resolution')': /simple/scikit-learn/\u001b[0m\u001b[33m\n",
      "\u001b[0m\u001b[33mWARNING: Retrying (Retry(total=2, connect=None, read=None, redirect=None, status=None)) after connection broken by 'NewConnectionError('<pip._vendor.urllib3.connection.HTTPSConnection object at 0x7fbfa6765820>: Failed to establish a new connection: [Errno -3] Temporary failure in name resolution')': /simple/scikit-learn/\u001b[0m\u001b[33m\n",
      "\u001b[0m\u001b[33mWARNING: Retrying (Retry(total=1, connect=None, read=None, redirect=None, status=None)) after connection broken by 'NewConnectionError('<pip._vendor.urllib3.connection.HTTPSConnection object at 0x7fbfa67659d0>: Failed to establish a new connection: [Errno -3] Temporary failure in name resolution')': /simple/scikit-learn/\u001b[0m\u001b[33m\n",
      "\u001b[0m\u001b[33mWARNING: Retrying (Retry(total=0, connect=None, read=None, redirect=None, status=None)) after connection broken by 'NewConnectionError('<pip._vendor.urllib3.connection.HTTPSConnection object at 0x7fbfa6765b80>: Failed to establish a new connection: [Errno -3] Temporary failure in name resolution')': /simple/scikit-learn/\u001b[0m\u001b[33m\n",
      "\u001b[0m\u001b[31mERROR: Could not find a version that satisfies the requirement scikit-learn (from versions: none)\u001b[0m\u001b[31m\n",
      "\u001b[0m\u001b[31mERROR: No matching distribution found for scikit-learn\u001b[0m\u001b[31m\n",
      "\u001b[0m\u001b[33mWARNING: You are using pip version 22.0.3; however, version 22.0.4 is available.\n",
      "You should consider upgrading via the '/home/mobini/mapsahr/venv/bin/python -m pip install --upgrade pip' command.\u001b[0m\u001b[33m\n",
      "\u001b[0m"
     ]
    }
   ],
   "source": [
    "!pip install scikit-learn"
   ]
  },
  {
   "cell_type": "code",
   "execution_count": 89,
   "id": "5f805415-8a7e-40e1-bd33-e63cefdf7987",
   "metadata": {},
   "outputs": [],
   "source": [
    "df = pd.read_csv('auto-mpg.data', \n",
    "                 header=None, \n",
    "                 sep='\\s+', \n",
    "                 names='mile_per_gallon cylinders displacement horsepower weight acceleration model_year origin car_name'.split(),\n",
    "                 na_values='?')"
   ]
  },
  {
   "cell_type": "code",
   "execution_count": 90,
   "id": "3e399463-0984-48e5-a92c-c01d93251ac1",
   "metadata": {},
   "outputs": [
    {
     "data": {
      "text/html": [
       "<div>\n",
       "<style scoped>\n",
       "    .dataframe tbody tr th:only-of-type {\n",
       "        vertical-align: middle;\n",
       "    }\n",
       "\n",
       "    .dataframe tbody tr th {\n",
       "        vertical-align: top;\n",
       "    }\n",
       "\n",
       "    .dataframe thead th {\n",
       "        text-align: right;\n",
       "    }\n",
       "</style>\n",
       "<table border=\"1\" class=\"dataframe\">\n",
       "  <thead>\n",
       "    <tr style=\"text-align: right;\">\n",
       "      <th></th>\n",
       "      <th>mile_per_gallon</th>\n",
       "      <th>cylinders</th>\n",
       "      <th>displacement</th>\n",
       "      <th>horsepower</th>\n",
       "      <th>weight</th>\n",
       "      <th>acceleration</th>\n",
       "      <th>model_year</th>\n",
       "      <th>origin</th>\n",
       "      <th>car_name</th>\n",
       "    </tr>\n",
       "  </thead>\n",
       "  <tbody>\n",
       "    <tr>\n",
       "      <th>0</th>\n",
       "      <td>18.0</td>\n",
       "      <td>8</td>\n",
       "      <td>307.0</td>\n",
       "      <td>130.0</td>\n",
       "      <td>3504.0</td>\n",
       "      <td>12.0</td>\n",
       "      <td>70</td>\n",
       "      <td>1</td>\n",
       "      <td>chevrolet chevelle malibu</td>\n",
       "    </tr>\n",
       "    <tr>\n",
       "      <th>1</th>\n",
       "      <td>15.0</td>\n",
       "      <td>8</td>\n",
       "      <td>350.0</td>\n",
       "      <td>165.0</td>\n",
       "      <td>3693.0</td>\n",
       "      <td>11.5</td>\n",
       "      <td>70</td>\n",
       "      <td>1</td>\n",
       "      <td>buick skylark 320</td>\n",
       "    </tr>\n",
       "    <tr>\n",
       "      <th>2</th>\n",
       "      <td>18.0</td>\n",
       "      <td>8</td>\n",
       "      <td>318.0</td>\n",
       "      <td>150.0</td>\n",
       "      <td>3436.0</td>\n",
       "      <td>11.0</td>\n",
       "      <td>70</td>\n",
       "      <td>1</td>\n",
       "      <td>plymouth satellite</td>\n",
       "    </tr>\n",
       "    <tr>\n",
       "      <th>3</th>\n",
       "      <td>16.0</td>\n",
       "      <td>8</td>\n",
       "      <td>304.0</td>\n",
       "      <td>150.0</td>\n",
       "      <td>3433.0</td>\n",
       "      <td>12.0</td>\n",
       "      <td>70</td>\n",
       "      <td>1</td>\n",
       "      <td>amc rebel sst</td>\n",
       "    </tr>\n",
       "    <tr>\n",
       "      <th>4</th>\n",
       "      <td>17.0</td>\n",
       "      <td>8</td>\n",
       "      <td>302.0</td>\n",
       "      <td>140.0</td>\n",
       "      <td>3449.0</td>\n",
       "      <td>10.5</td>\n",
       "      <td>70</td>\n",
       "      <td>1</td>\n",
       "      <td>ford torino</td>\n",
       "    </tr>\n",
       "    <tr>\n",
       "      <th>...</th>\n",
       "      <td>...</td>\n",
       "      <td>...</td>\n",
       "      <td>...</td>\n",
       "      <td>...</td>\n",
       "      <td>...</td>\n",
       "      <td>...</td>\n",
       "      <td>...</td>\n",
       "      <td>...</td>\n",
       "      <td>...</td>\n",
       "    </tr>\n",
       "    <tr>\n",
       "      <th>393</th>\n",
       "      <td>27.0</td>\n",
       "      <td>4</td>\n",
       "      <td>140.0</td>\n",
       "      <td>86.0</td>\n",
       "      <td>2790.0</td>\n",
       "      <td>15.6</td>\n",
       "      <td>82</td>\n",
       "      <td>1</td>\n",
       "      <td>ford mustang gl</td>\n",
       "    </tr>\n",
       "    <tr>\n",
       "      <th>394</th>\n",
       "      <td>44.0</td>\n",
       "      <td>4</td>\n",
       "      <td>97.0</td>\n",
       "      <td>52.0</td>\n",
       "      <td>2130.0</td>\n",
       "      <td>24.6</td>\n",
       "      <td>82</td>\n",
       "      <td>2</td>\n",
       "      <td>vw pickup</td>\n",
       "    </tr>\n",
       "    <tr>\n",
       "      <th>395</th>\n",
       "      <td>32.0</td>\n",
       "      <td>4</td>\n",
       "      <td>135.0</td>\n",
       "      <td>84.0</td>\n",
       "      <td>2295.0</td>\n",
       "      <td>11.6</td>\n",
       "      <td>82</td>\n",
       "      <td>1</td>\n",
       "      <td>dodge rampage</td>\n",
       "    </tr>\n",
       "    <tr>\n",
       "      <th>396</th>\n",
       "      <td>28.0</td>\n",
       "      <td>4</td>\n",
       "      <td>120.0</td>\n",
       "      <td>79.0</td>\n",
       "      <td>2625.0</td>\n",
       "      <td>18.6</td>\n",
       "      <td>82</td>\n",
       "      <td>1</td>\n",
       "      <td>ford ranger</td>\n",
       "    </tr>\n",
       "    <tr>\n",
       "      <th>397</th>\n",
       "      <td>31.0</td>\n",
       "      <td>4</td>\n",
       "      <td>119.0</td>\n",
       "      <td>82.0</td>\n",
       "      <td>2720.0</td>\n",
       "      <td>19.4</td>\n",
       "      <td>82</td>\n",
       "      <td>1</td>\n",
       "      <td>chevy s-10</td>\n",
       "    </tr>\n",
       "  </tbody>\n",
       "</table>\n",
       "<p>398 rows × 9 columns</p>\n",
       "</div>"
      ],
      "text/plain": [
       "     mile_per_gallon  cylinders  displacement  horsepower  weight  \\\n",
       "0               18.0          8         307.0       130.0  3504.0   \n",
       "1               15.0          8         350.0       165.0  3693.0   \n",
       "2               18.0          8         318.0       150.0  3436.0   \n",
       "3               16.0          8         304.0       150.0  3433.0   \n",
       "4               17.0          8         302.0       140.0  3449.0   \n",
       "..               ...        ...           ...         ...     ...   \n",
       "393             27.0          4         140.0        86.0  2790.0   \n",
       "394             44.0          4          97.0        52.0  2130.0   \n",
       "395             32.0          4         135.0        84.0  2295.0   \n",
       "396             28.0          4         120.0        79.0  2625.0   \n",
       "397             31.0          4         119.0        82.0  2720.0   \n",
       "\n",
       "     acceleration  model_year  origin                   car_name  \n",
       "0            12.0          70       1  chevrolet chevelle malibu  \n",
       "1            11.5          70       1          buick skylark 320  \n",
       "2            11.0          70       1         plymouth satellite  \n",
       "3            12.0          70       1              amc rebel sst  \n",
       "4            10.5          70       1                ford torino  \n",
       "..            ...         ...     ...                        ...  \n",
       "393          15.6          82       1            ford mustang gl  \n",
       "394          24.6          82       2                  vw pickup  \n",
       "395          11.6          82       1              dodge rampage  \n",
       "396          18.6          82       1                ford ranger  \n",
       "397          19.4          82       1                 chevy s-10  \n",
       "\n",
       "[398 rows x 9 columns]"
      ]
     },
     "execution_count": 90,
     "metadata": {},
     "output_type": "execute_result"
    }
   ],
   "source": [
    "df"
   ]
  },
  {
   "cell_type": "code",
   "execution_count": 91,
   "id": "0bc8df78-ee78-4759-a7b4-e0725ea2423f",
   "metadata": {},
   "outputs": [
    {
     "name": "stdout",
     "output_type": "stream",
     "text": [
      "<class 'pandas.core.frame.DataFrame'>\n",
      "RangeIndex: 398 entries, 0 to 397\n",
      "Data columns (total 9 columns):\n",
      " #   Column           Non-Null Count  Dtype  \n",
      "---  ------           --------------  -----  \n",
      " 0   mile_per_gallon  398 non-null    float64\n",
      " 1   cylinders        398 non-null    int64  \n",
      " 2   displacement     398 non-null    float64\n",
      " 3   horsepower       392 non-null    float64\n",
      " 4   weight           398 non-null    float64\n",
      " 5   acceleration     398 non-null    float64\n",
      " 6   model_year       398 non-null    int64  \n",
      " 7   origin           398 non-null    int64  \n",
      " 8   car_name         398 non-null    object \n",
      "dtypes: float64(5), int64(3), object(1)\n",
      "memory usage: 28.1+ KB\n"
     ]
    }
   ],
   "source": [
    "df.info()"
   ]
  },
  {
   "cell_type": "code",
   "execution_count": 92,
   "id": "cd1e468c-c607-46ad-aea3-00ebe8682abb",
   "metadata": {},
   "outputs": [
    {
     "data": {
      "text/html": [
       "<div>\n",
       "<style scoped>\n",
       "    .dataframe tbody tr th:only-of-type {\n",
       "        vertical-align: middle;\n",
       "    }\n",
       "\n",
       "    .dataframe tbody tr th {\n",
       "        vertical-align: top;\n",
       "    }\n",
       "\n",
       "    .dataframe thead th {\n",
       "        text-align: right;\n",
       "    }\n",
       "</style>\n",
       "<table border=\"1\" class=\"dataframe\">\n",
       "  <thead>\n",
       "    <tr style=\"text-align: right;\">\n",
       "      <th></th>\n",
       "      <th>mile_per_gallon</th>\n",
       "      <th>cylinders</th>\n",
       "      <th>displacement</th>\n",
       "      <th>horsepower</th>\n",
       "      <th>weight</th>\n",
       "      <th>acceleration</th>\n",
       "      <th>model_year</th>\n",
       "      <th>origin</th>\n",
       "    </tr>\n",
       "  </thead>\n",
       "  <tbody>\n",
       "    <tr>\n",
       "      <th>count</th>\n",
       "      <td>398.000000</td>\n",
       "      <td>398.000000</td>\n",
       "      <td>398.000000</td>\n",
       "      <td>392.000000</td>\n",
       "      <td>398.000000</td>\n",
       "      <td>398.000000</td>\n",
       "      <td>398.000000</td>\n",
       "      <td>398.000000</td>\n",
       "    </tr>\n",
       "    <tr>\n",
       "      <th>mean</th>\n",
       "      <td>23.514573</td>\n",
       "      <td>5.454774</td>\n",
       "      <td>193.425879</td>\n",
       "      <td>104.469388</td>\n",
       "      <td>2970.424623</td>\n",
       "      <td>15.568090</td>\n",
       "      <td>76.010050</td>\n",
       "      <td>1.572864</td>\n",
       "    </tr>\n",
       "    <tr>\n",
       "      <th>std</th>\n",
       "      <td>7.815984</td>\n",
       "      <td>1.701004</td>\n",
       "      <td>104.269838</td>\n",
       "      <td>38.491160</td>\n",
       "      <td>846.841774</td>\n",
       "      <td>2.757689</td>\n",
       "      <td>3.697627</td>\n",
       "      <td>0.802055</td>\n",
       "    </tr>\n",
       "    <tr>\n",
       "      <th>min</th>\n",
       "      <td>9.000000</td>\n",
       "      <td>3.000000</td>\n",
       "      <td>68.000000</td>\n",
       "      <td>46.000000</td>\n",
       "      <td>1613.000000</td>\n",
       "      <td>8.000000</td>\n",
       "      <td>70.000000</td>\n",
       "      <td>1.000000</td>\n",
       "    </tr>\n",
       "    <tr>\n",
       "      <th>25%</th>\n",
       "      <td>17.500000</td>\n",
       "      <td>4.000000</td>\n",
       "      <td>104.250000</td>\n",
       "      <td>75.000000</td>\n",
       "      <td>2223.750000</td>\n",
       "      <td>13.825000</td>\n",
       "      <td>73.000000</td>\n",
       "      <td>1.000000</td>\n",
       "    </tr>\n",
       "    <tr>\n",
       "      <th>50%</th>\n",
       "      <td>23.000000</td>\n",
       "      <td>4.000000</td>\n",
       "      <td>148.500000</td>\n",
       "      <td>93.500000</td>\n",
       "      <td>2803.500000</td>\n",
       "      <td>15.500000</td>\n",
       "      <td>76.000000</td>\n",
       "      <td>1.000000</td>\n",
       "    </tr>\n",
       "    <tr>\n",
       "      <th>75%</th>\n",
       "      <td>29.000000</td>\n",
       "      <td>8.000000</td>\n",
       "      <td>262.000000</td>\n",
       "      <td>126.000000</td>\n",
       "      <td>3608.000000</td>\n",
       "      <td>17.175000</td>\n",
       "      <td>79.000000</td>\n",
       "      <td>2.000000</td>\n",
       "    </tr>\n",
       "    <tr>\n",
       "      <th>max</th>\n",
       "      <td>46.600000</td>\n",
       "      <td>8.000000</td>\n",
       "      <td>455.000000</td>\n",
       "      <td>230.000000</td>\n",
       "      <td>5140.000000</td>\n",
       "      <td>24.800000</td>\n",
       "      <td>82.000000</td>\n",
       "      <td>3.000000</td>\n",
       "    </tr>\n",
       "  </tbody>\n",
       "</table>\n",
       "</div>"
      ],
      "text/plain": [
       "       mile_per_gallon   cylinders  displacement  horsepower       weight  \\\n",
       "count       398.000000  398.000000    398.000000  392.000000   398.000000   \n",
       "mean         23.514573    5.454774    193.425879  104.469388  2970.424623   \n",
       "std           7.815984    1.701004    104.269838   38.491160   846.841774   \n",
       "min           9.000000    3.000000     68.000000   46.000000  1613.000000   \n",
       "25%          17.500000    4.000000    104.250000   75.000000  2223.750000   \n",
       "50%          23.000000    4.000000    148.500000   93.500000  2803.500000   \n",
       "75%          29.000000    8.000000    262.000000  126.000000  3608.000000   \n",
       "max          46.600000    8.000000    455.000000  230.000000  5140.000000   \n",
       "\n",
       "       acceleration  model_year      origin  \n",
       "count    398.000000  398.000000  398.000000  \n",
       "mean      15.568090   76.010050    1.572864  \n",
       "std        2.757689    3.697627    0.802055  \n",
       "min        8.000000   70.000000    1.000000  \n",
       "25%       13.825000   73.000000    1.000000  \n",
       "50%       15.500000   76.000000    1.000000  \n",
       "75%       17.175000   79.000000    2.000000  \n",
       "max       24.800000   82.000000    3.000000  "
      ]
     },
     "execution_count": 92,
     "metadata": {},
     "output_type": "execute_result"
    }
   ],
   "source": [
    "df.describe()"
   ]
  },
  {
   "cell_type": "code",
   "execution_count": 93,
   "id": "75b26bc2-bbad-41c4-85b9-c636d3ff220d",
   "metadata": {},
   "outputs": [
    {
     "data": {
      "text/html": [
       "<div>\n",
       "<style scoped>\n",
       "    .dataframe tbody tr th:only-of-type {\n",
       "        vertical-align: middle;\n",
       "    }\n",
       "\n",
       "    .dataframe tbody tr th {\n",
       "        vertical-align: top;\n",
       "    }\n",
       "\n",
       "    .dataframe thead th {\n",
       "        text-align: right;\n",
       "    }\n",
       "</style>\n",
       "<table border=\"1\" class=\"dataframe\">\n",
       "  <thead>\n",
       "    <tr style=\"text-align: right;\">\n",
       "      <th></th>\n",
       "      <th>mile_per_gallon</th>\n",
       "      <th>cylinders</th>\n",
       "      <th>displacement</th>\n",
       "      <th>horsepower</th>\n",
       "      <th>weight</th>\n",
       "      <th>acceleration</th>\n",
       "      <th>model_year</th>\n",
       "      <th>origin</th>\n",
       "    </tr>\n",
       "  </thead>\n",
       "  <tbody>\n",
       "    <tr>\n",
       "      <th>mile_per_gallon</th>\n",
       "      <td>1.000000</td>\n",
       "      <td>-0.775396</td>\n",
       "      <td>-0.804203</td>\n",
       "      <td>-0.778427</td>\n",
       "      <td>-0.831741</td>\n",
       "      <td>0.420289</td>\n",
       "      <td>0.579267</td>\n",
       "      <td>0.563450</td>\n",
       "    </tr>\n",
       "    <tr>\n",
       "      <th>cylinders</th>\n",
       "      <td>-0.775396</td>\n",
       "      <td>1.000000</td>\n",
       "      <td>0.950721</td>\n",
       "      <td>0.842983</td>\n",
       "      <td>0.896017</td>\n",
       "      <td>-0.505419</td>\n",
       "      <td>-0.348746</td>\n",
       "      <td>-0.562543</td>\n",
       "    </tr>\n",
       "    <tr>\n",
       "      <th>displacement</th>\n",
       "      <td>-0.804203</td>\n",
       "      <td>0.950721</td>\n",
       "      <td>1.000000</td>\n",
       "      <td>0.897257</td>\n",
       "      <td>0.932824</td>\n",
       "      <td>-0.543684</td>\n",
       "      <td>-0.370164</td>\n",
       "      <td>-0.609409</td>\n",
       "    </tr>\n",
       "    <tr>\n",
       "      <th>horsepower</th>\n",
       "      <td>-0.778427</td>\n",
       "      <td>0.842983</td>\n",
       "      <td>0.897257</td>\n",
       "      <td>1.000000</td>\n",
       "      <td>0.864538</td>\n",
       "      <td>-0.689196</td>\n",
       "      <td>-0.416361</td>\n",
       "      <td>-0.455171</td>\n",
       "    </tr>\n",
       "    <tr>\n",
       "      <th>weight</th>\n",
       "      <td>-0.831741</td>\n",
       "      <td>0.896017</td>\n",
       "      <td>0.932824</td>\n",
       "      <td>0.864538</td>\n",
       "      <td>1.000000</td>\n",
       "      <td>-0.417457</td>\n",
       "      <td>-0.306564</td>\n",
       "      <td>-0.581024</td>\n",
       "    </tr>\n",
       "    <tr>\n",
       "      <th>acceleration</th>\n",
       "      <td>0.420289</td>\n",
       "      <td>-0.505419</td>\n",
       "      <td>-0.543684</td>\n",
       "      <td>-0.689196</td>\n",
       "      <td>-0.417457</td>\n",
       "      <td>1.000000</td>\n",
       "      <td>0.288137</td>\n",
       "      <td>0.205873</td>\n",
       "    </tr>\n",
       "    <tr>\n",
       "      <th>model_year</th>\n",
       "      <td>0.579267</td>\n",
       "      <td>-0.348746</td>\n",
       "      <td>-0.370164</td>\n",
       "      <td>-0.416361</td>\n",
       "      <td>-0.306564</td>\n",
       "      <td>0.288137</td>\n",
       "      <td>1.000000</td>\n",
       "      <td>0.180662</td>\n",
       "    </tr>\n",
       "    <tr>\n",
       "      <th>origin</th>\n",
       "      <td>0.563450</td>\n",
       "      <td>-0.562543</td>\n",
       "      <td>-0.609409</td>\n",
       "      <td>-0.455171</td>\n",
       "      <td>-0.581024</td>\n",
       "      <td>0.205873</td>\n",
       "      <td>0.180662</td>\n",
       "      <td>1.000000</td>\n",
       "    </tr>\n",
       "  </tbody>\n",
       "</table>\n",
       "</div>"
      ],
      "text/plain": [
       "                 mile_per_gallon  cylinders  displacement  horsepower  \\\n",
       "mile_per_gallon         1.000000  -0.775396     -0.804203   -0.778427   \n",
       "cylinders              -0.775396   1.000000      0.950721    0.842983   \n",
       "displacement           -0.804203   0.950721      1.000000    0.897257   \n",
       "horsepower             -0.778427   0.842983      0.897257    1.000000   \n",
       "weight                 -0.831741   0.896017      0.932824    0.864538   \n",
       "acceleration            0.420289  -0.505419     -0.543684   -0.689196   \n",
       "model_year              0.579267  -0.348746     -0.370164   -0.416361   \n",
       "origin                  0.563450  -0.562543     -0.609409   -0.455171   \n",
       "\n",
       "                   weight  acceleration  model_year    origin  \n",
       "mile_per_gallon -0.831741      0.420289    0.579267  0.563450  \n",
       "cylinders        0.896017     -0.505419   -0.348746 -0.562543  \n",
       "displacement     0.932824     -0.543684   -0.370164 -0.609409  \n",
       "horsepower       0.864538     -0.689196   -0.416361 -0.455171  \n",
       "weight           1.000000     -0.417457   -0.306564 -0.581024  \n",
       "acceleration    -0.417457      1.000000    0.288137  0.205873  \n",
       "model_year      -0.306564      0.288137    1.000000  0.180662  \n",
       "origin          -0.581024      0.205873    0.180662  1.000000  "
      ]
     },
     "execution_count": 93,
     "metadata": {},
     "output_type": "execute_result"
    }
   ],
   "source": [
    "df.corr()"
   ]
  },
  {
   "cell_type": "code",
   "execution_count": 94,
   "id": "c7d20837-98fe-437a-87aa-7a62c04c7258",
   "metadata": {},
   "outputs": [
    {
     "data": {
      "text/plain": [
       "mile_per_gallon    14\n",
       "cylinders           4\n",
       "displacement       10\n",
       "weight             15\n",
       "acceleration       13\n",
       "model_year         10\n",
       "origin              3\n",
       "car_name           16\n",
       "dtype: int64"
      ]
     },
     "execution_count": 94,
     "metadata": {},
     "output_type": "execute_result"
    }
   ],
   "source": [
    "grouped = df.groupby(\"horsepower\").nunique()\n",
    "g = grouped.nunique()\n",
    "g"
   ]
  },
  {
   "cell_type": "code",
   "execution_count": 95,
   "id": "5c9efc2c-e93f-4b9f-99c8-1af22085cb23",
   "metadata": {},
   "outputs": [
    {
     "data": {
      "text/plain": [
       "mile_per_gallon      [1, 2, 3, 4, 5, 6, 7, 8, 9, 10, 11, 14, 16, 17]\n",
       "cylinders                                               [1, 2, 3, 4]\n",
       "displacement                        [1, 2, 3, 4, 5, 6, 7, 8, 10, 11]\n",
       "weight             [1, 2, 3, 4, 5, 6, 7, 8, 9, 11, 12, 14, 17, 18...\n",
       "acceleration            [1, 2, 3, 4, 5, 6, 7, 9, 11, 12, 14, 15, 18]\n",
       "model_year                          [1, 2, 3, 4, 5, 6, 8, 9, 10, 12]\n",
       "origin                                                     [1, 2, 3]\n",
       "car_name           [1, 2, 3, 4, 5, 6, 7, 8, 9, 11, 12, 14, 16, 17...\n",
       "dtype: object"
      ]
     },
     "execution_count": 95,
     "metadata": {},
     "output_type": "execute_result"
    }
   ],
   "source": [
    "grouped.apply(np.unique)"
   ]
  },
  {
   "cell_type": "code",
   "execution_count": 97,
   "id": "94a48b6a-3d50-4069-923c-4598cd799145",
   "metadata": {},
   "outputs": [],
   "source": [
    "df.car_name = df.car_name.astype('category').cat.codes\n",
    "df.car_name = pd.Categorical(df.car_name)"
   ]
  },
  {
   "cell_type": "code",
   "execution_count": 98,
   "id": "6f4bb2c9-a750-4cef-b474-fd1135718326",
   "metadata": {},
   "outputs": [
    {
     "name": "stdout",
     "output_type": "stream",
     "text": [
      "<class 'pandas.core.frame.DataFrame'>\n",
      "RangeIndex: 398 entries, 0 to 397\n",
      "Data columns (total 9 columns):\n",
      " #   Column           Non-Null Count  Dtype   \n",
      "---  ------           --------------  -----   \n",
      " 0   mile_per_gallon  398 non-null    float64 \n",
      " 1   cylinders        398 non-null    int64   \n",
      " 2   displacement     398 non-null    float64 \n",
      " 3   horsepower       392 non-null    float64 \n",
      " 4   weight           398 non-null    float64 \n",
      " 5   acceleration     398 non-null    float64 \n",
      " 6   model_year       398 non-null    int64   \n",
      " 7   origin           398 non-null    int64   \n",
      " 8   car_name         398 non-null    category\n",
      "dtypes: category(1), float64(5), int64(3)\n",
      "memory usage: 36.3 KB\n"
     ]
    }
   ],
   "source": [
    "df.info()"
   ]
  },
  {
   "cell_type": "code",
   "execution_count": 122,
   "id": "4d8c5d50-be85-48ee-8bc8-c44f8b043b7d",
   "metadata": {},
   "outputs": [],
   "source": [
    "df.dropna(inplace=True, axis = 0)"
   ]
  },
  {
   "cell_type": "code",
   "execution_count": 123,
   "id": "229a1171-e963-45f5-a41e-5b285f44ab7e",
   "metadata": {},
   "outputs": [],
   "source": [
    "from sklearn.model_selection import train_test_split\n",
    "\n",
    "feature = df.loc[:, df.columns != 'mile_per_gallon']\n",
    "label = df['mile_per_gallon']\n",
    "X_train, X_test, y_train, y_test = train_test_split(feature, label, test_size=0.33, random_state=42)"
   ]
  },
  {
   "cell_type": "code",
   "execution_count": 124,
   "id": "09f6558c-d030-4e5f-a198-7084860618cb",
   "metadata": {},
   "outputs": [],
   "source": [
    "X_train.drop(['car_name'],inplace = True, axis = 1)\n",
    "X_test.drop(['car_name'],inplace = True, axis = 1)"
   ]
  },
  {
   "cell_type": "code",
   "execution_count": 157,
   "id": "f67ef25a-46e0-40bc-bdec-d116eeb88740",
   "metadata": {},
   "outputs": [
    {
     "data": {
      "text/html": [
       "<div>\n",
       "<style scoped>\n",
       "    .dataframe tbody tr th:only-of-type {\n",
       "        vertical-align: middle;\n",
       "    }\n",
       "\n",
       "    .dataframe tbody tr th {\n",
       "        vertical-align: top;\n",
       "    }\n",
       "\n",
       "    .dataframe thead th {\n",
       "        text-align: right;\n",
       "    }\n",
       "</style>\n",
       "<table border=\"1\" class=\"dataframe\">\n",
       "  <thead>\n",
       "    <tr style=\"text-align: right;\">\n",
       "      <th></th>\n",
       "      <th>cylinders</th>\n",
       "      <th>displacement</th>\n",
       "      <th>horsepower</th>\n",
       "      <th>weight</th>\n",
       "      <th>acceleration</th>\n",
       "      <th>model_year</th>\n",
       "      <th>origin</th>\n",
       "    </tr>\n",
       "  </thead>\n",
       "  <tbody>\n",
       "    <tr>\n",
       "      <th>count</th>\n",
       "      <td>262.000000</td>\n",
       "      <td>262.000000</td>\n",
       "      <td>262.000000</td>\n",
       "      <td>262.000000</td>\n",
       "      <td>262.000000</td>\n",
       "      <td>262.000000</td>\n",
       "      <td>262.000000</td>\n",
       "    </tr>\n",
       "    <tr>\n",
       "      <th>mean</th>\n",
       "      <td>5.534351</td>\n",
       "      <td>199.000000</td>\n",
       "      <td>105.958015</td>\n",
       "      <td>3006.248092</td>\n",
       "      <td>15.468702</td>\n",
       "      <td>76.152672</td>\n",
       "      <td>1.557252</td>\n",
       "    </tr>\n",
       "    <tr>\n",
       "      <th>std</th>\n",
       "      <td>1.734472</td>\n",
       "      <td>105.065059</td>\n",
       "      <td>38.540447</td>\n",
       "      <td>847.521559</td>\n",
       "      <td>2.865559</td>\n",
       "      <td>3.614516</td>\n",
       "      <td>0.813302</td>\n",
       "    </tr>\n",
       "    <tr>\n",
       "      <th>min</th>\n",
       "      <td>3.000000</td>\n",
       "      <td>70.000000</td>\n",
       "      <td>48.000000</td>\n",
       "      <td>1613.000000</td>\n",
       "      <td>8.000000</td>\n",
       "      <td>70.000000</td>\n",
       "      <td>1.000000</td>\n",
       "    </tr>\n",
       "    <tr>\n",
       "      <th>25%</th>\n",
       "      <td>4.000000</td>\n",
       "      <td>105.500000</td>\n",
       "      <td>77.250000</td>\n",
       "      <td>2248.000000</td>\n",
       "      <td>13.500000</td>\n",
       "      <td>73.000000</td>\n",
       "      <td>1.000000</td>\n",
       "    </tr>\n",
       "    <tr>\n",
       "      <th>50%</th>\n",
       "      <td>4.000000</td>\n",
       "      <td>153.000000</td>\n",
       "      <td>95.000000</td>\n",
       "      <td>2869.000000</td>\n",
       "      <td>15.350000</td>\n",
       "      <td>76.000000</td>\n",
       "      <td>1.000000</td>\n",
       "    </tr>\n",
       "    <tr>\n",
       "      <th>75%</th>\n",
       "      <td>8.000000</td>\n",
       "      <td>302.000000</td>\n",
       "      <td>135.750000</td>\n",
       "      <td>3660.750000</td>\n",
       "      <td>17.375000</td>\n",
       "      <td>79.000000</td>\n",
       "      <td>2.000000</td>\n",
       "    </tr>\n",
       "    <tr>\n",
       "      <th>max</th>\n",
       "      <td>8.000000</td>\n",
       "      <td>455.000000</td>\n",
       "      <td>230.000000</td>\n",
       "      <td>5140.000000</td>\n",
       "      <td>24.800000</td>\n",
       "      <td>82.000000</td>\n",
       "      <td>3.000000</td>\n",
       "    </tr>\n",
       "  </tbody>\n",
       "</table>\n",
       "</div>"
      ],
      "text/plain": [
       "        cylinders  displacement  horsepower       weight  acceleration  \\\n",
       "count  262.000000    262.000000  262.000000   262.000000    262.000000   \n",
       "mean     5.534351    199.000000  105.958015  3006.248092     15.468702   \n",
       "std      1.734472    105.065059   38.540447   847.521559      2.865559   \n",
       "min      3.000000     70.000000   48.000000  1613.000000      8.000000   \n",
       "25%      4.000000    105.500000   77.250000  2248.000000     13.500000   \n",
       "50%      4.000000    153.000000   95.000000  2869.000000     15.350000   \n",
       "75%      8.000000    302.000000  135.750000  3660.750000     17.375000   \n",
       "max      8.000000    455.000000  230.000000  5140.000000     24.800000   \n",
       "\n",
       "       model_year      origin  \n",
       "count  262.000000  262.000000  \n",
       "mean    76.152672    1.557252  \n",
       "std      3.614516    0.813302  \n",
       "min     70.000000    1.000000  \n",
       "25%     73.000000    1.000000  \n",
       "50%     76.000000    1.000000  \n",
       "75%     79.000000    2.000000  \n",
       "max     82.000000    3.000000  "
      ]
     },
     "execution_count": 157,
     "metadata": {},
     "output_type": "execute_result"
    }
   ],
   "source": [
    "X_train.describe()"
   ]
  },
  {
   "cell_type": "code",
   "execution_count": 126,
   "id": "80b1f0b5-419c-46e8-9779-bfae5f8f7a71",
   "metadata": {},
   "outputs": [],
   "source": [
    "from sklearn.linear_model import LinearRegression"
   ]
  },
  {
   "cell_type": "code",
   "execution_count": 127,
   "id": "f9ba15ce-ee53-4927-991f-56e63695815e",
   "metadata": {},
   "outputs": [],
   "source": [
    "lm_car = LinearRegression()"
   ]
  },
  {
   "cell_type": "code",
   "execution_count": 128,
   "id": "59743216-887b-439b-8361-4a3770ff16e6",
   "metadata": {},
   "outputs": [
    {
     "data": {
      "text/html": [
       "<style>#sk-container-id-2 {color: black;background-color: white;}#sk-container-id-2 pre{padding: 0;}#sk-container-id-2 div.sk-toggleable {background-color: white;}#sk-container-id-2 label.sk-toggleable__label {cursor: pointer;display: block;width: 100%;margin-bottom: 0;padding: 0.3em;box-sizing: border-box;text-align: center;}#sk-container-id-2 label.sk-toggleable__label-arrow:before {content: \"▸\";float: left;margin-right: 0.25em;color: #696969;}#sk-container-id-2 label.sk-toggleable__label-arrow:hover:before {color: black;}#sk-container-id-2 div.sk-estimator:hover label.sk-toggleable__label-arrow:before {color: black;}#sk-container-id-2 div.sk-toggleable__content {max-height: 0;max-width: 0;overflow: hidden;text-align: left;background-color: #f0f8ff;}#sk-container-id-2 div.sk-toggleable__content pre {margin: 0.2em;color: black;border-radius: 0.25em;background-color: #f0f8ff;}#sk-container-id-2 input.sk-toggleable__control:checked~div.sk-toggleable__content {max-height: 200px;max-width: 100%;overflow: auto;}#sk-container-id-2 input.sk-toggleable__control:checked~label.sk-toggleable__label-arrow:before {content: \"▾\";}#sk-container-id-2 div.sk-estimator input.sk-toggleable__control:checked~label.sk-toggleable__label {background-color: #d4ebff;}#sk-container-id-2 div.sk-label input.sk-toggleable__control:checked~label.sk-toggleable__label {background-color: #d4ebff;}#sk-container-id-2 input.sk-hidden--visually {border: 0;clip: rect(1px 1px 1px 1px);clip: rect(1px, 1px, 1px, 1px);height: 1px;margin: -1px;overflow: hidden;padding: 0;position: absolute;width: 1px;}#sk-container-id-2 div.sk-estimator {font-family: monospace;background-color: #f0f8ff;border: 1px dotted black;border-radius: 0.25em;box-sizing: border-box;margin-bottom: 0.5em;}#sk-container-id-2 div.sk-estimator:hover {background-color: #d4ebff;}#sk-container-id-2 div.sk-parallel-item::after {content: \"\";width: 100%;border-bottom: 1px solid gray;flex-grow: 1;}#sk-container-id-2 div.sk-label:hover label.sk-toggleable__label {background-color: #d4ebff;}#sk-container-id-2 div.sk-serial::before {content: \"\";position: absolute;border-left: 1px solid gray;box-sizing: border-box;top: 0;bottom: 0;left: 50%;z-index: 0;}#sk-container-id-2 div.sk-serial {display: flex;flex-direction: column;align-items: center;background-color: white;padding-right: 0.2em;padding-left: 0.2em;position: relative;}#sk-container-id-2 div.sk-item {position: relative;z-index: 1;}#sk-container-id-2 div.sk-parallel {display: flex;align-items: stretch;justify-content: center;background-color: white;position: relative;}#sk-container-id-2 div.sk-item::before, #sk-container-id-2 div.sk-parallel-item::before {content: \"\";position: absolute;border-left: 1px solid gray;box-sizing: border-box;top: 0;bottom: 0;left: 50%;z-index: -1;}#sk-container-id-2 div.sk-parallel-item {display: flex;flex-direction: column;z-index: 1;position: relative;background-color: white;}#sk-container-id-2 div.sk-parallel-item:first-child::after {align-self: flex-end;width: 50%;}#sk-container-id-2 div.sk-parallel-item:last-child::after {align-self: flex-start;width: 50%;}#sk-container-id-2 div.sk-parallel-item:only-child::after {width: 0;}#sk-container-id-2 div.sk-dashed-wrapped {border: 1px dashed gray;margin: 0 0.4em 0.5em 0.4em;box-sizing: border-box;padding-bottom: 0.4em;background-color: white;}#sk-container-id-2 div.sk-label label {font-family: monospace;font-weight: bold;display: inline-block;line-height: 1.2em;}#sk-container-id-2 div.sk-label-container {text-align: center;}#sk-container-id-2 div.sk-container {/* jupyter's `normalize.less` sets `[hidden] { display: none; }` but bootstrap.min.css set `[hidden] { display: none !important; }` so we also need the `!important` here to be able to override the default hidden behavior on the sphinx rendered scikit-learn.org. See: https://github.com/scikit-learn/scikit-learn/issues/21755 */display: inline-block !important;position: relative;}#sk-container-id-2 div.sk-text-repr-fallback {display: none;}</style><div id=\"sk-container-id-2\" class=\"sk-top-container\"><div class=\"sk-text-repr-fallback\"><pre>LinearRegression()</pre><b>In a Jupyter environment, please rerun this cell to show the HTML representation or trust the notebook. <br />On GitHub, the HTML representation is unable to render, please try loading this page with nbviewer.org.</b></div><div class=\"sk-container\" hidden><div class=\"sk-item\"><div class=\"sk-estimator sk-toggleable\"><input class=\"sk-toggleable__control sk-hidden--visually\" id=\"sk-estimator-id-2\" type=\"checkbox\" checked><label for=\"sk-estimator-id-2\" class=\"sk-toggleable__label sk-toggleable__label-arrow\">LinearRegression</label><div class=\"sk-toggleable__content\"><pre>LinearRegression()</pre></div></div></div></div></div>"
      ],
      "text/plain": [
       "LinearRegression()"
      ]
     },
     "execution_count": 128,
     "metadata": {},
     "output_type": "execute_result"
    }
   ],
   "source": [
    "lm_car.fit(X_train,y_train)"
   ]
  },
  {
   "cell_type": "code",
   "execution_count": 129,
   "id": "73dcbef2-daa4-447d-9c97-8c5487e1895b",
   "metadata": {},
   "outputs": [
    {
     "data": {
      "text/plain": [
       "-15.671191909466767"
      ]
     },
     "execution_count": 129,
     "metadata": {},
     "output_type": "execute_result"
    }
   ],
   "source": [
    "lm_car.intercept_"
   ]
  },
  {
   "cell_type": "code",
   "execution_count": 130,
   "id": "19540909-a848-43ed-87c6-3dbb544989b9",
   "metadata": {},
   "outputs": [
    {
     "data": {
      "text/plain": [
       "array([-0.41716929,  0.01868952, -0.03055115, -0.00604794,  0.08356456,\n",
       "        0.72513383,  1.75119066])"
      ]
     },
     "execution_count": 130,
     "metadata": {},
     "output_type": "execute_result"
    }
   ],
   "source": [
    "lm_car.coef_"
   ]
  },
  {
   "cell_type": "code",
   "execution_count": 131,
   "id": "7088d6e2-91c6-4831-9fed-6c21e28de319",
   "metadata": {},
   "outputs": [],
   "source": [
    "prediction = lm_car.predict(X_test)"
   ]
  },
  {
   "cell_type": "code",
   "execution_count": 164,
   "id": "92246021-0822-4bc6-8c2b-70ddcd0eaa93",
   "metadata": {},
   "outputs": [
    {
     "name": "stderr",
     "output_type": "stream",
     "text": [
      "/home/mobini/mapsahr/venv/lib/python3.8/site-packages/seaborn/_decorators.py:36: FutureWarning: Pass the following variables as keyword args: x, y. From version 0.12, the only valid positional argument will be `data`, and passing other arguments without an explicit keyword will result in an error or misinterpretation.\n",
      "  warnings.warn(\n",
      "/home/mobini/mapsahr/venv/lib/python3.8/site-packages/seaborn/_decorators.py:36: FutureWarning: Pass the following variables as keyword args: x, y. From version 0.12, the only valid positional argument will be `data`, and passing other arguments without an explicit keyword will result in an error or misinterpretation.\n",
      "  warnings.warn(\n"
     ]
    },
    {
     "data": {
      "text/plain": [
       "<AxesSubplot:xlabel='mile_per_gallon', ylabel='mile_per_gallon'>"
      ]
     },
     "execution_count": 164,
     "metadata": {},
     "output_type": "execute_result"
    },
    {
     "data": {
      "image/png": "[encoded data removed]",
      "text/plain": [
       "<Figure size 432x288 with 1 Axes>"
      ]
     },
     "metadata": {
      "needs_background": "light"
     },
     "output_type": "display_data"
    }
   ],
   "source": [
    "sns.lineplot(y_test, y_test)\n",
    "sns.scatterplot(y_test, prediction)"
   ]
  },
  {
   "cell_type": "code",
   "execution_count": 132,
   "id": "5a54eb12-1934-47ce-8deb-aa972ddac75a",
   "metadata": {},
   "outputs": [
    {
     "name": "stderr",
     "output_type": "stream",
     "text": [
      "/home/mobini/mapsahr/venv/lib/python3.8/site-packages/seaborn/_decorators.py:36: FutureWarning: Pass the following variables as keyword args: x, y. From version 0.12, the only valid positional argument will be `data`, and passing other arguments without an explicit keyword will result in an error or misinterpretation.\n",
      "  warnings.warn(\n"
     ]
    },
    {
     "data": {
      "text/plain": [
       "<AxesSubplot:xlabel='mile_per_gallon'>"
      ]
     },
     "execution_count": 132,
     "metadata": {},
     "output_type": "execute_result"
    },
    {
     "data": {
      "image/png": "[encoded data removed]",
      "text/plain": [
       "<Figure size 432x288 with 1 Axes>"
      ]
     },
     "metadata": {
      "needs_background": "light"
     },
     "output_type": "display_data"
    }
   ],
   "source": [
    "sns.regplot(y_test,prediction)"
   ]
  },
  {
   "cell_type": "code",
   "execution_count": 133,
   "id": "100af385-ffc8-4077-9cbd-c6dbc217e72e",
   "metadata": {},
   "outputs": [
    {
     "data": {
      "text/plain": [
       "(array([ 2.,  4.,  8., 18., 34., 30., 19., 12.,  2.,  1.]),\n",
       " array([-10.10659862,  -8.19806704,  -6.28953545,  -4.38100386,\n",
       "         -2.47247228,  -0.56394069,   1.34459089,   3.25312248,\n",
       "          5.16165406,   7.07018565,   8.97871724]),\n",
       " <BarContainer object of 10 artists>)"
      ]
     },
     "execution_count": 133,
     "metadata": {},
     "output_type": "execute_result"
    },
    {
     "data": {
      "image/png": "[encoded data removed]",
      "text/plain": [
       "<Figure size 432x288 with 1 Axes>"
      ]
     },
     "metadata": {
      "needs_background": "light"
     },
     "output_type": "display_data"
    }
   ],
   "source": [
    "plt.hist(y_test-prediction)"
   ]
  },
  {
   "cell_type": "code",
   "execution_count": 134,
   "id": "dd6a98c9-b10e-47d4-a1bd-71b888c1b993",
   "metadata": {},
   "outputs": [
    {
     "name": "stderr",
     "output_type": "stream",
     "text": [
      "/home/mobini/mapsahr/venv/lib/python3.8/site-packages/seaborn/distributions.py:2619: FutureWarning: `distplot` is a deprecated function and will be removed in a future version. Please adapt your code to use either `displot` (a figure-level function with similar flexibility) or `histplot` (an axes-level function for histograms).\n",
      "  warnings.warn(msg, FutureWarning)\n"
     ]
    },
    {
     "data": {
      "text/plain": [
       "<AxesSubplot:xlabel='mile_per_gallon', ylabel='Density'>"
      ]
     },
     "execution_count": 134,
     "metadata": {},
     "output_type": "execute_result"
    },
    {
     "data": {
      "image/png": "[encoded data removed]",
      "text/plain": [
       "<Figure size 432x288 with 1 Axes>"
      ]
     },
     "metadata": {
      "needs_background": "light"
     },
     "output_type": "display_data"
    }
   ],
   "source": [
    "sns.distplot(y_test-prediction)"
   ]
  },
  {
   "cell_type": "code",
   "execution_count": 135,
   "id": "b70d451e-5ffb-4a29-8cf2-b84e056b6206",
   "metadata": {},
   "outputs": [],
   "source": [
    "from sklearn.linear_model import LinearRegression, Ridge, SGDRegressor"
   ]
  },
  {
   "cell_type": "code",
   "execution_count": 175,
   "id": "0114590e-46d4-4eae-96d3-ba266f4b663d",
   "metadata": {},
   "outputs": [
    {
     "name": "stdout",
     "output_type": "stream",
     "text": [
      "Ridge intercept boston:  -15.640652356915457\n",
      "Ridge coef boston:  [-0.41258554  0.01855599 -0.03046454 -0.00605001  0.08363783  0.72489019\n",
      "  1.74164812]\n"
     ]
    }
   ],
   "source": [
    "model_without_scale = Ridge(alpha=0.5)\n",
    "model_without_scale.fit(X_train, y_train)\n",
    "print(\"Ridge intercept boston: \", model_without_scale.intercept_)\n",
    "print(\"Ridge coef boston: \", model_without_scale.coef_)"
   ]
  },
  {
   "cell_type": "code",
   "execution_count": 176,
   "id": "c1df9fba-6d8e-40ed-bd09-bd8b782f13f8",
   "metadata": {},
   "outputs": [
    {
     "name": "stderr",
     "output_type": "stream",
     "text": [
      "/home/mobini/mapsahr/venv/lib/python3.8/site-packages/seaborn/_decorators.py:36: FutureWarning: Pass the following variables as keyword args: x, y. From version 0.12, the only valid positional argument will be `data`, and passing other arguments without an explicit keyword will result in an error or misinterpretation.\n",
      "  warnings.warn(\n",
      "/home/mobini/mapsahr/venv/lib/python3.8/site-packages/seaborn/_decorators.py:36: FutureWarning: Pass the following variables as keyword args: x, y. From version 0.12, the only valid positional argument will be `data`, and passing other arguments without an explicit keyword will result in an error or misinterpretation.\n",
      "  warnings.warn(\n"
     ]
    },
    {
     "data": {
      "text/plain": [
       "<AxesSubplot:xlabel='mile_per_gallon'>"
      ]
     },
     "execution_count": 176,
     "metadata": {},
     "output_type": "execute_result"
    },
    {
     "data": {
      "image/png": "[encoded data removed]",
      "text/plain": [
       "<Figure size 432x288 with 1 Axes>"
      ]
     },
     "metadata": {
      "needs_background": "light"
     },
     "output_type": "display_data"
    }
   ],
   "source": [
    "y_pred = model_without_scale.predict(X_test)\n",
    "sns.scatterplot(y_test, prediction)\n",
    "sns.scatterplot(y_test, y_pred)"
   ]
  },
  {
   "cell_type": "code",
   "execution_count": 180,
   "id": "92939620-948a-4eae-91a8-ead7f587a7bd",
   "metadata": {},
   "outputs": [
    {
     "data": {
      "text/html": [
       "<div>\n",
       "<style scoped>\n",
       "    .dataframe tbody tr th:only-of-type {\n",
       "        vertical-align: middle;\n",
       "    }\n",
       "\n",
       "    .dataframe tbody tr th {\n",
       "        vertical-align: top;\n",
       "    }\n",
       "\n",
       "    .dataframe thead th {\n",
       "        text-align: right;\n",
       "    }\n",
       "</style>\n",
       "<table border=\"1\" class=\"dataframe\">\n",
       "  <thead>\n",
       "    <tr style=\"text-align: right;\">\n",
       "      <th></th>\n",
       "      <th>0</th>\n",
       "      <th>1</th>\n",
       "      <th>2</th>\n",
       "      <th>3</th>\n",
       "      <th>4</th>\n",
       "      <th>5</th>\n",
       "      <th>6</th>\n",
       "    </tr>\n",
       "  </thead>\n",
       "  <tbody>\n",
       "    <tr>\n",
       "      <th>0</th>\n",
       "      <td>-0.886314</td>\n",
       "      <td>-0.829643</td>\n",
       "      <td>-0.466844</td>\n",
       "      <td>-0.432967</td>\n",
       "      <td>1.094827</td>\n",
       "      <td>1.620831</td>\n",
       "      <td>-0.686483</td>\n",
       "    </tr>\n",
       "    <tr>\n",
       "      <th>1</th>\n",
       "      <td>-0.886314</td>\n",
       "      <td>-0.877324</td>\n",
       "      <td>-0.518837</td>\n",
       "      <td>-0.641029</td>\n",
       "      <td>0.010943</td>\n",
       "      <td>-0.042319</td>\n",
       "      <td>0.545425</td>\n",
       "    </tr>\n",
       "    <tr>\n",
       "      <th>2</th>\n",
       "      <td>-0.886314</td>\n",
       "      <td>-0.743818</td>\n",
       "      <td>0.157070</td>\n",
       "      <td>-0.163433</td>\n",
       "      <td>0.010943</td>\n",
       "      <td>-0.873895</td>\n",
       "      <td>0.545425</td>\n",
       "    </tr>\n",
       "    <tr>\n",
       "      <th>3</th>\n",
       "      <td>-0.886314</td>\n",
       "      <td>-0.963149</td>\n",
       "      <td>-0.778801</td>\n",
       "      <td>-1.019323</td>\n",
       "      <td>-0.268769</td>\n",
       "      <td>1.066448</td>\n",
       "      <td>0.545425</td>\n",
       "    </tr>\n",
       "    <tr>\n",
       "      <th>4</th>\n",
       "      <td>1.424276</td>\n",
       "      <td>1.010830</td>\n",
       "      <td>1.014952</td>\n",
       "      <td>1.032923</td>\n",
       "      <td>-1.037977</td>\n",
       "      <td>0.234872</td>\n",
       "      <td>-0.686483</td>\n",
       "    </tr>\n",
       "    <tr>\n",
       "      <th>...</th>\n",
       "      <td>...</td>\n",
       "      <td>...</td>\n",
       "      <td>...</td>\n",
       "      <td>...</td>\n",
       "      <td>...</td>\n",
       "      <td>...</td>\n",
       "      <td>...</td>\n",
       "    </tr>\n",
       "    <tr>\n",
       "      <th>257</th>\n",
       "      <td>1.424276</td>\n",
       "      <td>1.001293</td>\n",
       "      <td>1.144934</td>\n",
       "      <td>1.047109</td>\n",
       "      <td>-1.037977</td>\n",
       "      <td>-1.151086</td>\n",
       "      <td>-0.686483</td>\n",
       "    </tr>\n",
       "    <tr>\n",
       "      <th>258</th>\n",
       "      <td>0.268981</td>\n",
       "      <td>0.314692</td>\n",
       "      <td>-0.154887</td>\n",
       "      <td>-0.256824</td>\n",
       "      <td>-0.163877</td>\n",
       "      <td>-0.873895</td>\n",
       "      <td>-0.686483</td>\n",
       "    </tr>\n",
       "    <tr>\n",
       "      <th>259</th>\n",
       "      <td>-0.886314</td>\n",
       "      <td>-0.457734</td>\n",
       "      <td>-0.544833</td>\n",
       "      <td>-0.178801</td>\n",
       "      <td>0.745187</td>\n",
       "      <td>0.512064</td>\n",
       "      <td>-0.686483</td>\n",
       "    </tr>\n",
       "    <tr>\n",
       "      <th>260</th>\n",
       "      <td>-0.886314</td>\n",
       "      <td>-0.963149</td>\n",
       "      <td>-1.064762</td>\n",
       "      <td>-0.740331</td>\n",
       "      <td>1.829070</td>\n",
       "      <td>1.343639</td>\n",
       "      <td>-0.686483</td>\n",
       "    </tr>\n",
       "    <tr>\n",
       "      <th>261</th>\n",
       "      <td>1.424276</td>\n",
       "      <td>1.916762</td>\n",
       "      <td>1.144934</td>\n",
       "      <td>2.353406</td>\n",
       "      <td>-0.513517</td>\n",
       "      <td>-0.873895</td>\n",
       "      <td>-0.686483</td>\n",
       "    </tr>\n",
       "  </tbody>\n",
       "</table>\n",
       "<p>262 rows × 7 columns</p>\n",
       "</div>"
      ],
      "text/plain": [
       "            0         1         2         3         4         5         6\n",
       "0   -0.886314 -0.829643 -0.466844 -0.432967  1.094827  1.620831 -0.686483\n",
       "1   -0.886314 -0.877324 -0.518837 -0.641029  0.010943 -0.042319  0.545425\n",
       "2   -0.886314 -0.743818  0.157070 -0.163433  0.010943 -0.873895  0.545425\n",
       "3   -0.886314 -0.963149 -0.778801 -1.019323 -0.268769  1.066448  0.545425\n",
       "4    1.424276  1.010830  1.014952  1.032923 -1.037977  0.234872 -0.686483\n",
       "..        ...       ...       ...       ...       ...       ...       ...\n",
       "257  1.424276  1.001293  1.144934  1.047109 -1.037977 -1.151086 -0.686483\n",
       "258  0.268981  0.314692 -0.154887 -0.256824 -0.163877 -0.873895 -0.686483\n",
       "259 -0.886314 -0.457734 -0.544833 -0.178801  0.745187  0.512064 -0.686483\n",
       "260 -0.886314 -0.963149 -1.064762 -0.740331  1.829070  1.343639 -0.686483\n",
       "261  1.424276  1.916762  1.144934  2.353406 -0.513517 -0.873895 -0.686483\n",
       "\n",
       "[262 rows x 7 columns]"
      ]
     },
     "execution_count": 180,
     "metadata": {},
     "output_type": "execute_result"
    }
   ],
   "source": [
    "from sklearn import preprocessing\n",
    "min_max_scaler = preprocessing.MinMaxScaler()\n",
    "standard_scaler = preprocessing.StandardScaler()\n",
    "X_train_scaled = standard_scaler.fit_transform(X_train, y_train)\n",
    "X_test_scaled = standard_scaler.transform(X_test)\n",
    "X_train_scaled_df = pd.DataFrame(X_train_scaled)\n",
    "X_train_scaled_df"
   ]
  },
  {
   "cell_type": "code",
   "execution_count": 178,
   "id": "a5ba475c-9a32-4655-9934-80899a1d4c92",
   "metadata": {},
   "outputs": [
    {
     "name": "stdout",
     "output_type": "stream",
     "text": [
      "Ridge intercept car:  23.561068702290076\n",
      "Ridge coef car:  [-0.6743145   1.79327511 -1.18512917 -5.0055943   0.21766077  2.60390488\n",
      "  1.41019446]\n"
     ]
    }
   ],
   "source": [
    "rb_model = Ridge(alpha=0.5)\n",
    "rb_model.fit(X_train_scaled, y_train)\n",
    "print(\"Ridge intercept car: \", rb_model.intercept_)\n",
    "print(\"Ridge coef car: \", rb_model.coef_)"
   ]
  },
  {
   "cell_type": "code",
   "execution_count": 181,
   "id": "cfd402f5-fbfd-4dc2-9b52-d40a45aec52e",
   "metadata": {},
   "outputs": [
    {
     "data": {
      "text/plain": [
       "0.8253553544254923"
      ]
     },
     "execution_count": 181,
     "metadata": {},
     "output_type": "execute_result"
    }
   ],
   "source": [
    "rb_model.score(X_train_scaled, y_train)"
   ]
  },
  {
   "cell_type": "code",
   "execution_count": 182,
   "id": "15e4bd7c-67c5-4dbc-abdd-a02b0ae93e77",
   "metadata": {},
   "outputs": [
    {
     "data": {
      "text/plain": [
       "0.8005700546721213"
      ]
     },
     "execution_count": 182,
     "metadata": {},
     "output_type": "execute_result"
    }
   ],
   "source": [
    "rb_model.score(X_test_scaled, y_test)"
   ]
  },
  {
   "cell_type": "code",
   "execution_count": 185,
   "id": "7f95a1dd-8a31-4a2c-9265-cf0334aa5d35",
   "metadata": {},
   "outputs": [],
   "source": [
    "from sklearn.metrics import r2_score, mean_squared_error\n",
    "y_predict_train = rb_model.predict(X_train_scaled)\n",
    "y_predict_test = rb_model.predict(X_test_scaled)\n"
   ]
  },
  {
   "cell_type": "code",
   "execution_count": 187,
   "id": "6658a7a9-1ea4-4e8d-84ef-b126f1a854ca",
   "metadata": {},
   "outputs": [
    {
     "data": {
      "text/plain": [
       "(0.8253553544254923, 0.8005700546721213)"
      ]
     },
     "execution_count": 187,
     "metadata": {},
     "output_type": "execute_result"
    }
   ],
   "source": [
    "r2_score(y_train, y_predict_train), r2_score(y_test, y_predict_test)"
   ]
  },
  {
   "cell_type": "code",
   "execution_count": 188,
   "id": "bddb2d06-d12d-4ea0-9c01-59fcb923298f",
   "metadata": {},
   "outputs": [
    {
     "data": {
      "text/plain": [
       "(11.294111183073834, 10.53176513426845)"
      ]
     },
     "execution_count": 188,
     "metadata": {},
     "output_type": "execute_result"
    }
   ],
   "source": [
    "mean_squared_error(y_train, y_predict_train), mean_squared_error(y_test, y_predict_test)\n"
   ]
  },
  {
   "cell_type": "code",
   "execution_count": 149,
   "id": "ab64dc5f-c5c1-43e1-ba47-aa459ce58a24",
   "metadata": {},
   "outputs": [
    {
     "name": "stdout",
     "output_type": "stream",
     "text": [
      "SGD intercept car:  [23.45939835]\n",
      "SGD coef car:  [-0.53791116  1.40441149 -1.38883146 -4.88435868  0.51570189  2.65691466\n",
      "  1.28454499]\n"
     ]
    }
   ],
   "source": [
    "sgd_car = SGDRegressor(max_iter=100000, tol=1e-5, eta0=0.1, random_state=42)\n",
    "sgd_car.fit(X_train_scaled, y_train)\n",
    "print(\"SGD intercept car: \", sgd_car.intercept_)\n",
    "print(\"SGD coef car: \", sgd_car.coef_)"
   ]
  },
  {
   "cell_type": "code",
   "execution_count": 150,
   "id": "7eaed37c-f6fb-408d-b62f-c5529be1c42d",
   "metadata": {},
   "outputs": [],
   "source": [
    "from sklearn.preprocessing import PolynomialFeatures\n",
    "polyRegressor = PolynomialFeatures(degree=2)\n",
    "X_train_poly = polyRegressor.fit_transform(X_train)\n",
    "X_test_poly = polyRegressor.fit_transform(X_test)\n",
    "poly = LinearRegression()\n",
    "poly.fit(X_train_poly, y_train)\n",
    "prediction_plr = poly.predict(X_test_poly)"
   ]
  },
  {
   "cell_type": "code",
   "execution_count": 151,
   "id": "c36b6232-ee00-416c-846f-14748b36a8ce",
   "metadata": {},
   "outputs": [
    {
     "name": "stderr",
     "output_type": "stream",
     "text": [
      "/home/mobini/mapsahr/venv/lib/python3.8/site-packages/sklearn/base.py:450: UserWarning: X does not have valid feature names, but LinearRegression was fitted with feature names\n",
      "  warnings.warn(\n"
     ]
    }
   ],
   "source": [
    "prediction_lm = lm_car.predict(X_test_scaled)\n",
    "prediction_rb = rb_model.predict(X_test_scaled)\n",
    "prediction_sgd = sgd_car.predict(X_test_scaled)"
   ]
  },
  {
   "cell_type": "code",
   "execution_count": 153,
   "id": "4fef8a4b-9a68-4219-9800-731e77c0a981",
   "metadata": {},
   "outputs": [
    {
     "name": "stdout",
     "output_type": "stream",
     "text": [
      "LR MSE: 1545.213110297575\n",
      "Ridge MSE: 10.368969560165826\n",
      "SGD MSE: 11.510539789554679\n"
     ]
    }
   ],
   "source": [
    "from sklearn import metrics\n",
    "MSE_lm = metrics.mean_squared_error(y_test, prediction_lm)\n",
    "MSE_rb = metrics.mean_squared_error(y_test, prediction_rb)\n",
    "MSE_sgd = metrics.mean_squared_error(y_test, prediction_sgd)\n",
    "print(\"LR MSE:\", MSE_lm)\n",
    "print(\"Ridge MSE:\", MSE_rb)\n",
    "print(\"SGD MSE:\", MSE_sgd)"
   ]
  },
  {
   "cell_type": "code",
   "execution_count": 155,
   "id": "c7728597-577d-47cd-8fcf-0c76fadc5f26",
   "metadata": {},
   "outputs": [
    {
     "name": "stdout",
     "output_type": "stream",
     "text": [
      "cross val mean LR: 0.8054537165677171\n",
      "cross val mean Ridge: 0.8055320652072593\n",
      "cross val mean SGD: 0.8036263530084766\n"
     ]
    }
   ],
   "source": [
    "from sklearn.model_selection import cross_val_score as cvs\n",
    "accuracy_lr = cvs(LinearRegression(), X_train, y_train, scoring='r2', cv=10)\n",
    "accuracy_rb = cvs(Ridge(), X_train, y_train, scoring='r2', cv=10)\n",
    "accuracy_sgd = cvs(SGDRegressor(), X_train_scaled, y_train, scoring='r2', cv=6)\n",
    "print(\"cross val mean LR:\", accuracy_lr.mean())\n",
    "print(\"cross val mean Ridge:\", accuracy_rb.mean())\n",
    "print(\"cross val mean SGD:\", accuracy_sgd.mean())"
   ]
  },
  {
   "cell_type": "code",
   "execution_count": null,
   "id": "c3c67f2e-5554-4234-ab59-53f3c9ae3d77",
   "metadata": {},
   "outputs": [],
   "source": []
  }
 ],
 "metadata": {
  "kernelspec": {
   "display_name": "Python 3 (ipykernel)",
   "language": "python",
   "name": "python3"
  },
  "language_info": {
   "codemirror_mode": {
    "name": "ipython",
    "version": 3
   },
   "file_extension": ".py",
   "mimetype": "text/x-python",
   "name": "python",
   "nbconvert_exporter": "python",
   "pygments_lexer": "ipython3",
   "version": "3.8.10"
  }
 },
 "nbformat": 4,
 "nbformat_minor": 5
}
