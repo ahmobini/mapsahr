{
 "cells": [
  {
   "cell_type": "markdown",
   "id": "bb7447fa-7ef6-4e49-b918-b2f6df53b2b1",
   "metadata": {},
   "source": [
    "# Mumbling"
   ]
  },
  {
   "cell_type": "markdown",
   "id": "9371869a-0a36-4f5d-ae29-239528c40ca6",
   "metadata": {},
   "source": [
    "This time no story, no theory. The examples below show you how to write function accum:\n",
    "\n",
    "Examples:\n",
    "```\n",
    "accum(\"abcd\") -> \"A-Bb-Ccc-Dddd\"\n",
    "accum(\"RqaEzty\") -> \"R-Qq-Aaa-Eeee-Zzzzz-Tttttt-Yyyyyyy\"\n",
    "accum(\"cwAt\") -> \"C-Ww-Aaa-Tttt\"\n",
    "```\n",
    "The parameter of accum is a string which includes only letters from a..z and A..Z."
   ]
  },
  {
   "cell_type": "code",
   "execution_count": 1,
   "id": "90d59f0c-5010-4bf6-839c-7649d50d3831",
   "metadata": {},
   "outputs": [],
   "source": [
    "def accum(s):\n",
    "    txt = [(i * s).capitalize() for i , s in enumerate(s, start=1)] \n",
    "    return '-'.join(txt)"
   ]
  },
  {
   "cell_type": "markdown",
   "id": "4942fd91-4f2b-4ebb-9b2d-4c8912b34025",
   "metadata": {},
   "source": [
    "# Ones and Zeros"
   ]
  },
  {
   "cell_type": "markdown",
   "id": "9ee1fdca-1c23-4965-b0f0-0043c7088a74",
   "metadata": {},
   "source": [
    "Given an array of ones and zeroes, convert the equivalent binary value to an integer.\n",
    "```\n",
    "Eg: [0, 0, 0, 1] is treated as 0001 which is the binary representation of 1.\n",
    "```\n",
    "Examples:\n",
    "```\n",
    "Testing: [0, 0, 0, 1] ==> 1\n",
    "Testing: [0, 0, 1, 0] ==> 2\n",
    "Testing: [0, 1, 0, 1] ==> 5\n",
    "Testing: [1, 0, 0, 1] ==> 9\n",
    "Testing: [0, 0, 1, 0] ==> 2\n",
    "Testing: [0, 1, 1, 0] ==> 6\n",
    "Testing: [1, 1, 1, 1] ==> 15\n",
    "Testing: [1, 0, 1, 1] ==> 11\n",
    "```\n",
    "However, the arrays can have varying lengths, not just limited to 4."
   ]
  },
  {
   "cell_type": "code",
   "execution_count": 2,
   "id": "19585bd1-c44d-46a1-9aef-1649c7841aa8",
   "metadata": {},
   "outputs": [],
   "source": [
    "def binary_array_to_number(arr):\n",
    "    return sum(n * 2** i for i, n in enumerate(reversed(arr)))"
   ]
  },
  {
   "cell_type": "markdown",
   "id": "13349186-9305-4172-a8b7-8b0ba763b75f",
   "metadata": {},
   "source": [
    "# Tribonacci Sequence"
   ]
  },
  {
   "cell_type": "markdown",
   "id": "aa0a679a-de86-4c34-8316-158ba939333b",
   "metadata": {},
   "source": [
    "Well met with Fibonacci bigger brother, AKA Tribonacci.\n",
    "\n",
    "As the name may already reveal, it works basically like a Fibonacci, but summing the last 3 (instead of 2) numbers of the sequence to generate the next. And, worse part of it, regrettably I won't get to hear non-native Italian speakers trying to pronounce it :(\n",
    "\n",
    "So, if we are to start our Tribonacci sequence with [1, 1, 1] as a starting input (AKA signature), we have this sequence:\n",
    "\n",
    "[1, 1 ,1, 3, 5, 9, 17, 31, ...]\n",
    "But what if we started with [0, 0, 1] as a signature? As starting with [0, 1] instead of [1, 1] basically shifts the common Fibonacci sequence by once place, you may be tempted to think that we would get the same sequence shifted by 2 places, but that is not the case and we would get:\n",
    "\n",
    "[0, 0, 1, 1, 2, 4, 7, 13, 24, ...]\n",
    "Well, you may have guessed it by now, but to be clear: you need to create a fibonacci function that given a signature array/list, returns the first n elements - signature included of the so seeded sequence.\n",
    "\n",
    "Signature will always contain 3 numbers; n will always be a non-negative number; if n == 0, then return an empty array (except in C return NULL) and be ready for anything else which is not clearly specified ;)\n",
    "\n",
    "If you enjoyed this kata more advanced and generalized version of it can be found in the Xbonacci kata\n",
    "\n",
    "[Personal thanks to Professor Jim Fowler on Coursera for his awesome classes that I really recommend to any math enthusiast and for showing me this mathematical curiosity too with his usual contagious passion :)]"
   ]
  },
  {
   "cell_type": "code",
   "execution_count": 3,
   "id": "633d91c2-ddcd-4dd4-aada-6a4764701dfe",
   "metadata": {},
   "outputs": [],
   "source": [
    "def tribonacci(signature, n):\n",
    "    signature = signature.copy() # signature[:]\n",
    "    for _ in range(4, n+1):\n",
    "        signature.append(sum(signature[-3:]))\n",
    "    return signature[:n]"
   ]
  },
  {
   "cell_type": "markdown",
   "id": "5851967b-9383-46bf-93d6-efd255c6d512",
   "metadata": {},
   "source": [
    "# Human readable duration format"
   ]
  },
  {
   "cell_type": "markdown",
   "id": "dff2d41c-b330-431f-9c87-ca0209a9ea22",
   "metadata": {},
   "source": [
    "Your task in order to complete this Kata is to write a function which formats a duration, given as a number of seconds, in a human-friendly way.\n",
    "\n",
    "The function must accept a non-negative integer. If it is zero, it just returns \"now\". Otherwise, the duration is expressed as a combination of years, days, hours, minutes and seconds.\n",
    "\n",
    "It is much easier to understand with an example:\n",
    "\n",
    "* For seconds = 62, your function should return \n",
    "    \"1 minute and 2 seconds\"\n",
    "* For seconds = 3662, your function should return\n",
    "    \"1 hour, 1 minute and 2 seconds\"\n",
    "For the purpose of this Kata, a year is 365 days and a day is 24 hours.\n",
    "\n",
    "Note that spaces are important.\n",
    "\n",
    "Detailed rules\n",
    "The resulting expression is made of components like 4 seconds, 1 year, etc. In general, a positive integer and one of the valid units of time, separated by a space. The unit of time is used in plural if the integer is greater than 1.\n",
    "\n",
    "The components are separated by a comma and a space (\", \"). Except the last component, which is separated by \" and \", just like it would be written in English.\n",
    "\n",
    "A more significant units of time will occur before than a least significant one. Therefore, 1 second and 1 year is not correct, but 1 year and 1 second is.\n",
    "\n",
    "Different components have different unit of times. So there is not repeated units like in 5 seconds and 1 second.\n",
    "\n",
    "A component will not appear at all if its value happens to be zero. Hence, 1 minute and 0 seconds is not valid, but it should be just 1 minute.\n",
    "\n",
    "A unit of time must be used \"as much as possible\". It means that the function should not return 61 seconds, but 1 minute and 1 second instead. Formally, the duration specified by of a component must not be greater than any valid more significant unit of time.\n",
    "\n"
   ]
  },
  {
   "cell_type": "code",
   "execution_count": 4,
   "id": "d78d4331-f6b3-4fb4-b915-8c1d696d97c9",
   "metadata": {},
   "outputs": [],
   "source": [
    "def format_duration(seconds):\n",
    "    if not seconds:\n",
    "        return 'now'\n",
    "    else:\n",
    "        names = ['year', 'day', 'hour', 'minute', 'second']\n",
    "        equl_sec = [1, 60, 3600, 24 * 3600, 365 * 24 * 3600][::-1]\n",
    "        \n",
    "        data = []\n",
    "        for name, equl in zip(names, equl_sec):\n",
    "            tmp = seconds // equl\n",
    "            if tmp:\n",
    "                txt = f\"{tmp:d} {name}{'' if tmp == 1 else 's'}\"\n",
    "                data.append(txt)\n",
    "                seconds %= equl\n",
    "        \n",
    "        if len(data) == 1:\n",
    "            return data[0]\n",
    "        else:\n",
    "            return ', '.join(data[:-1]) + f\" and {data[-1]}\""
   ]
  },
  {
   "cell_type": "code",
   "execution_count": null,
   "id": "8dfb8666-7eca-4452-9a75-67a7d9853ef7",
   "metadata": {},
   "outputs": [],
   "source": []
  }
 ],
 "metadata": {
  "kernelspec": {
   "display_name": "Python 3 (ipykernel)",
   "language": "python",
   "name": "python3"
  },
  "language_info": {
   "codemirror_mode": {
    "name": "ipython",
    "version": 3
   },
   "file_extension": ".py",
   "mimetype": "text/x-python",
   "name": "python",
   "nbconvert_exporter": "python",
   "pygments_lexer": "ipython3",
   "version": "3.9.6"
  }
 },
 "nbformat": 4,
 "nbformat_minor": 5
}
