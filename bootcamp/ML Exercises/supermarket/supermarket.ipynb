{
 "cells": [
  {
   "cell_type": "code",
   "execution_count": 1,
   "id": "3d0011ea-fc89-4268-b4f3-bd2fbfd114e0",
   "metadata": {},
   "outputs": [],
   "source": [
    "import numpy as np\n",
    "import pandas as pd"
   ]
  },
  {
   "cell_type": "code",
   "execution_count": 2,
   "id": "66dd18ce-a8ba-4961-953e-c686a01e7b46",
   "metadata": {},
   "outputs": [
    {
     "data": {
      "text/html": [
       "<div>\n",
       "<style scoped>\n",
       "    .dataframe tbody tr th:only-of-type {\n",
       "        vertical-align: middle;\n",
       "    }\n",
       "\n",
       "    .dataframe tbody tr th {\n",
       "        vertical-align: top;\n",
       "    }\n",
       "\n",
       "    .dataframe thead th {\n",
       "        text-align: right;\n",
       "    }\n",
       "</style>\n",
       "<table border=\"1\" class=\"dataframe\">\n",
       "  <thead>\n",
       "    <tr style=\"text-align: right;\">\n",
       "      <th></th>\n",
       "      <th>Customer Id</th>\n",
       "      <th>Date</th>\n",
       "      <th>Product</th>\n",
       "    </tr>\n",
       "  </thead>\n",
       "  <tbody>\n",
       "    <tr>\n",
       "      <th>0</th>\n",
       "      <td>JKML5ZWXP0XQ</td>\n",
       "      <td>2020-07-20</td>\n",
       "      <td>tropical fruit</td>\n",
       "    </tr>\n",
       "    <tr>\n",
       "      <th>1</th>\n",
       "      <td>YOGWQIUPDAJ7</td>\n",
       "      <td>2020-04-30</td>\n",
       "      <td>whole milk</td>\n",
       "    </tr>\n",
       "    <tr>\n",
       "      <th>2</th>\n",
       "      <td>Q3NL22281AF6</td>\n",
       "      <td>2020-09-18</td>\n",
       "      <td>pip fruit</td>\n",
       "    </tr>\n",
       "    <tr>\n",
       "      <th>3</th>\n",
       "      <td>C59GRTLMZQAU</td>\n",
       "      <td>2020-12-11</td>\n",
       "      <td>other vegetables</td>\n",
       "    </tr>\n",
       "    <tr>\n",
       "      <th>4</th>\n",
       "      <td>WUSF8LTEQZ5L</td>\n",
       "      <td>2020-01-02</td>\n",
       "      <td>whole milk</td>\n",
       "    </tr>\n",
       "    <tr>\n",
       "      <th>...</th>\n",
       "      <td>...</td>\n",
       "      <td>...</td>\n",
       "      <td>...</td>\n",
       "    </tr>\n",
       "    <tr>\n",
       "      <th>32705</th>\n",
       "      <td>PM1BQU9H9S2Q</td>\n",
       "      <td>2019-06-05</td>\n",
       "      <td>oil</td>\n",
       "    </tr>\n",
       "    <tr>\n",
       "      <th>32706</th>\n",
       "      <td>6AWIAP3ZV551</td>\n",
       "      <td>2019-08-10</td>\n",
       "      <td>sliced cheese</td>\n",
       "    </tr>\n",
       "    <tr>\n",
       "      <th>32707</th>\n",
       "      <td>LRWVFLSC8X5B</td>\n",
       "      <td>2019-02-23</td>\n",
       "      <td>candy</td>\n",
       "    </tr>\n",
       "    <tr>\n",
       "      <th>32708</th>\n",
       "      <td>8KYRMELYKNIH</td>\n",
       "      <td>2019-04-16</td>\n",
       "      <td>cake bar</td>\n",
       "    </tr>\n",
       "    <tr>\n",
       "      <th>32709</th>\n",
       "      <td>41NGW85T47Q1</td>\n",
       "      <td>2019-03-12</td>\n",
       "      <td>fruit/vegetable juice</td>\n",
       "    </tr>\n",
       "  </tbody>\n",
       "</table>\n",
       "<p>32710 rows × 3 columns</p>\n",
       "</div>"
      ],
      "text/plain": [
       "        Customer Id        Date                Product\n",
       "0      JKML5ZWXP0XQ  2020-07-20         tropical fruit\n",
       "1      YOGWQIUPDAJ7  2020-04-30             whole milk\n",
       "2      Q3NL22281AF6  2020-09-18              pip fruit\n",
       "3      C59GRTLMZQAU  2020-12-11       other vegetables\n",
       "4      WUSF8LTEQZ5L  2020-01-02             whole milk\n",
       "...             ...         ...                    ...\n",
       "32705  PM1BQU9H9S2Q  2019-06-05                    oil\n",
       "32706  6AWIAP3ZV551  2019-08-10          sliced cheese\n",
       "32707  LRWVFLSC8X5B  2019-02-23                  candy\n",
       "32708  8KYRMELYKNIH  2019-04-16               cake bar\n",
       "32709  41NGW85T47Q1  2019-03-12  fruit/vegetable juice\n",
       "\n",
       "[32710 rows x 3 columns]"
      ]
     },
     "execution_count": 2,
     "metadata": {},
     "output_type": "execute_result"
    }
   ],
   "source": [
    "sabad=pd.read_csv('supermarket.csv') \n",
    "sabad"
   ]
  },
  {
   "cell_type": "code",
   "execution_count": 7,
   "id": "e3b3a006-11a4-4729-a7a1-411ec446ed9e",
   "metadata": {},
   "outputs": [
    {
     "data": {
      "text/plain": [
       "137"
      ]
     },
     "execution_count": 7,
     "metadata": {},
     "output_type": "execute_result"
    }
   ],
   "source": [
    "sabad['Product'].nunique()"
   ]
  },
  {
   "cell_type": "code",
   "execution_count": 9,
   "id": "df0eab70-bef7-4ee3-ad01-5f91d8f08ad0",
   "metadata": {},
   "outputs": [
    {
     "name": "stdout",
     "output_type": "stream",
     "text": [
      "44.93\n"
     ]
    }
   ],
   "source": [
    "print(\"%.2f\" % (sabad.groupby('Date').Product.count().mean()))"
   ]
  },
  {
   "cell_type": "code",
   "execution_count": 12,
   "id": "1b66107d-d130-4281-a450-cda1b93e78ed",
   "metadata": {},
   "outputs": [
    {
     "data": {
      "text/plain": [
       "bags                     4\n",
       "baby cosmetics           3\n",
       "kitchen utensil          1\n",
       "preservation products    1\n",
       "Name: Product, dtype: int64"
      ]
     },
     "execution_count": 12,
     "metadata": {},
     "output_type": "execute_result"
    }
   ],
   "source": [
    "sabad['Product'].value_counts().tail(4)"
   ]
  },
  {
   "cell_type": "code",
   "execution_count": 26,
   "id": "a95ccd84-defd-4f58-a06f-0ba8d5e3debf",
   "metadata": {},
   "outputs": [
    {
     "data": {
      "text/plain": [
       "Customer Id\n",
       "NQQZGF4K1FE0    20\n",
       "ED8WY0DE27XG    20\n",
       "0P1TPIH74E79    21\n",
       "KACGV5OJXMJW    23\n",
       "0ZRF32AJ06BC    26\n",
       "Name: Product, dtype: int64"
      ]
     },
     "execution_count": 26,
     "metadata": {},
     "output_type": "execute_result"
    }
   ],
   "source": [
    "twenty = sabad.loc[(sabad['Date'] >= '2020-01-01') & (sabad['Date'] < '2020-12-30')]\n",
    "twenty.groupby('Customer Id').Product.count().sort_values().tail(5)"
   ]
  },
  {
   "cell_type": "code",
   "execution_count": 33,
   "id": "4c81b89e-6607-4a87-bdc7-2dd250784c90",
   "metadata": {},
   "outputs": [
    {
     "data": {
      "text/plain": [
       "'Wednesday'"
      ]
     },
     "execution_count": 33,
     "metadata": {},
     "output_type": "execute_result"
    }
   ],
   "source": [
    "sabad['Day'] = pd.to_datetime(sabad['Date'])\n",
    "sabad['Day']=sabad['Day'].dt.day_name()\n",
    "sabad['Day'].max()"
   ]
  },
  {
   "cell_type": "code",
   "execution_count": 34,
   "id": "b20ec4a4-1922-4fe6-ac10-a28cafc4fb4f",
   "metadata": {},
   "outputs": [
    {
     "data": {
      "text/plain": [
       "whole milk          2363\n",
       "other vegetables    1827\n",
       "rolls/buns          1646\n",
       "soda                1453\n",
       "yogurt              1285\n",
       "Name: Product, dtype: int64"
      ]
     },
     "execution_count": 34,
     "metadata": {},
     "output_type": "execute_result"
    }
   ],
   "source": [
    "sabad['Product'].value_counts().head(5)"
   ]
  },
  {
   "cell_type": "code",
   "execution_count": null,
   "id": "df3e8989-0c6c-4183-a15a-a1599c008e95",
   "metadata": {},
   "outputs": [],
   "source": []
  }
 ],
 "metadata": {
  "kernelspec": {
   "display_name": "Python 3 (ipykernel)",
   "language": "python",
   "name": "python3"
  },
  "language_info": {
   "codemirror_mode": {
    "name": "ipython",
    "version": 3
   },
   "file_extension": ".py",
   "mimetype": "text/x-python",
   "name": "python",
   "nbconvert_exporter": "python",
   "pygments_lexer": "ipython3",
   "version": "3.8.10"
  }
 },
 "nbformat": 4,
 "nbformat_minor": 5
}
